{
 "cells": [
  {
   "cell_type": "code",
   "execution_count": null,
   "metadata": {},
   "outputs": [],
   "source": [
    "from MLScript import *\n",
    "import numpy as np\n",
    "from sklearn.preprocessing import StandardScaler\n",
    "from sklearn.decomposition import PCA\n",
    "import matplotlib.pyplot as plt\n",
    "from sklearn.mixture import GaussianMixture\n",
    "from kmodes.kmodes import KModes\n",
    "from sklearn.metrics import accuracy_score, precision_score, recall_score, f1_score\n",
    "\n"
   ]
  },
  {
   "cell_type": "code",
   "execution_count": null,
   "metadata": {},
   "outputs": [],
   "source": [
    "def perform_pca(X, Y, n_components=2):\n",
    "    \"\"\"Perform PCA and visualize the results.\n",
    "\n",
    "    Args:\n",
    "        X (np.array): Input features\n",
    "        Y (np.array): True labels\n",
    "        n_components (int): Number of PCA components\n",
    "\n",
    "    Returns:\n",
    "        tuple: (PCA transformed data, PCA object)\n",
    "    \"\"\"\n",
    "    pca = PCA(n_components=n_components)\n",
    "    X_pca = pca.fit_transform(X)\n",
    "\n",
    "    # Create PCA visualization\n",
    "    plt.figure(figsize=(10, 8))\n",
    "    plt.scatter(X_pca[:, 0], X_pca[:, 1], c=Y, cmap='viridis')\n",
    "    plt.xlabel('First Principal Component')\n",
    "    plt.ylabel('Second Principal Component')\n",
    "    plt.title('PCA of Genome Data')\n",
    "    plt.colorbar(label='Class Label')\n",
    "    plt.savefig('pca_visualization.png')\n",
    "    plt.close()\n",
    "\n",
    "    print(f\"Explained variance ratio: {pca.explained_variance_ratio_}\")\n",
    "    return X_pca, pca\n",
    "\n",
    "def perform_gmm(X, X_pca, Y, n_components=2):\n",
    "    \"\"\"Perform Gaussian Mixture Model clustering and evaluate results.\n",
    "\n",
    "    Args:\n",
    "        X (np.array): Original input features\n",
    "        X_pca (np.array): PCA transformed features for visualization\n",
    "        Y (np.array): True labels\n",
    "        n_components (int): Number of clusters\n",
    "\n",
    "    Returns:\n",
    "        tuple: (cluster labels, performance metrics dict)\n",
    "    \"\"\"\n",
    "    gmm = GaussianMixture(n_components=n_components, random_state=42)\n",
    "    gmm_labels = gmm.fit_predict(X)\n",
    "\n",
    "    # Visualize GMM results\n",
    "    plt.figure(figsize=(10, 8))\n",
    "    plt.scatter(X_pca[:, 0], X_pca[:, 1], c=gmm_labels, cmap='viridis')\n",
    "    plt.xlabel('First Principal Component')\n",
    "    plt.ylabel('Second Principal Component')\n",
    "    plt.title('GMM Clustering Results')\n",
    "    plt.colorbar(label='Cluster Label')\n",
    "    plt.savefig('gmm_clustering.png')\n",
    "    plt.close()\n",
    "\n",
    "    # Calculate performance metrics\n",
    "    metrics = {\n",
    "        'accuracy': accuracy_score(Y, gmm_labels),\n",
    "        'precision': precision_score(Y, gmm_labels),\n",
    "        'recall': recall_score(Y, gmm_labels),\n",
    "        'f1': f1_score(Y, gmm_labels)\n",
    "    }\n",
    "\n",
    "    print(\"\\nGMM Clustering Results:\")\n",
    "    print(f\"Number of samples in each cluster: {np.bincount(gmm_labels)}\")\n",
    "    print(f\"Accuracy: {metrics['accuracy']:.4f}\")\n",
    "    print(f\"Precision: {metrics['precision']:.4f}\")\n",
    "    print(f\"Recall: {metrics['recall']:.4f}\")\n",
    "    print(f\"F1 Score: {metrics['f1']:.4f}\")\n",
    "\n",
    "    return gmm_labels, metrics\n",
    "\n",
    "def perform_kmodes(X, X_pca, Y, n_clusters=2):\n",
    "    \"\"\"Perform K-modes clustering and evaluate results.\n",
    "\n",
    "    Args:\n",
    "        X (np.array): Original input features\n",
    "        X_pca (np.array): PCA transformed features for visualization\n",
    "        Y (np.array): True labels\n",
    "        n_clusters (int): Number of clusters\n",
    "\n",
    "    Returns:\n",
    "        tuple: (cluster labels, performance metrics dict)\n",
    "    \"\"\"\n",
    "    kmode = KModes(n_clusters=n_clusters, init='Huang', random_state=42)\n",
    "    kmode_labels = kmode.fit_predict(X)\n",
    "\n",
    "    # Visualize K-modes results\n",
    "    plt.figure(figsize=(10, 8))\n",
    "    plt.scatter(X_pca[:, 0], X_pca[:, 1], c=kmode_labels, cmap='viridis')\n",
    "    plt.xlabel('First Principal Component')\n",
    "    plt.ylabel('Second Principal Component')\n",
    "    plt.title('K-modes Clustering Results')\n",
    "    plt.colorbar(label='Cluster Label')\n",
    "    plt.savefig('kmode_clustering.png')\n",
    "    plt.close()\n",
    "\n",
    "    # Calculate performance metrics\n",
    "    metrics = {\n",
    "        'accuracy': accuracy_score(Y, kmode_labels),\n",
    "        'precision': precision_score(Y, kmode_labels),\n",
    "        'recall': recall_score(Y, kmode_labels),\n",
    "        'f1': f1_score(Y, kmode_labels)\n",
    "    }\n",
    "\n",
    "    print(\"\\nK-modes Clustering Results:\")\n",
    "    print(f\"Number of samples in each cluster: {np.bincount(kmode_labels)}\")\n",
    "    print(f\"Accuracy: {metrics['accuracy']:.4f}\")\n",
    "    print(f\"Precision: {metrics['precision']:.4f}\")\n",
    "    print(f\"Recall: {metrics['recall']:.4f}\")\n",
    "    print(f\"F1 Score: {metrics['f1']:.4f}\")\n",
    "\n",
    "    return kmode_labels, metrics\n"
   ]
  },
  {
   "cell_type": "markdown",
   "metadata": {},
   "source": [
    "### Core Genome\n"
   ]
  },
  {
   "cell_type": "code",
   "execution_count": null,
   "metadata": {},
   "outputs": [],
   "source": [
    "X,Y, column_dict, genome_id = process_genome_matrix('core_genome.csv')\n",
    "# Perform PCA\n",
    "X_pca, pca = perform_pca(X, Y)\n",
    "\n",
    "# Perform GMM clustering\n",
    "gmm_labels, gmm_metrics = perform_gmm(X, X_pca, Y)\n",
    "\n",
    "# Perform K-modes clustering\n",
    "kmode_labels, kmode_metrics = perform_kmodes(X, X_pca, Y)\n"
   ]
  },
  {
   "cell_type": "markdown",
   "metadata": {},
   "source": [
    "### core soft pangenome\n"
   ]
  },
  {
   "cell_type": "code",
   "execution_count": null,
   "metadata": {},
   "outputs": [],
   "source": [
    "X,Y, column_dict, genome_id = process_genome_matrix('core_soft_genome.csv')\n",
    "# Perform PCA\n",
    "X_pca, pca = perform_pca(X, Y)\n",
    "\n",
    "# Perform GMM clustering\n",
    "gmm_labels, gmm_metrics = perform_gmm(X, X_pca, Y)\n",
    "\n",
    "# Perform K-modes clustering\n",
    "kmode_labels, kmode_metrics = perform_kmodes(X, X_pca, Y)\n"
   ]
  },
  {
   "cell_type": "markdown",
   "metadata": {},
   "source": [
    "### core + shell pangenome\n",
    "\n"
   ]
  },
  {
   "cell_type": "code",
   "execution_count": null,
   "metadata": {},
   "outputs": [],
   "source": [
    "X,Y, column_dict, genome_id = process_genome_matrix('Core_shell_genome.csv')\n",
    "# Perform PCA\n",
    "X_pca, pca = perform_pca(X, Y)\n",
    "\n",
    "# Perform GMM clustering\n",
    "gmm_labels, gmm_metrics = perform_gmm(X, X_pca, Y)\n",
    "\n",
    "# Perform K-modes clustering\n",
    "kmode_labels, kmode_metrics = perform_kmodes(X, X_pca, Y)\n"
   ]
  },
  {
   "cell_type": "markdown",
   "metadata": {},
   "source": [
    "### whole pangenome\n"
   ]
  },
  {
   "cell_type": "code",
   "execution_count": null,
   "metadata": {},
   "outputs": [],
   "source": [
    "X,Y, column_dict, genome_id = process_genome_matrix('genome_matrix_full.csv')\n",
    "# Perform PCA\n",
    "X_pca, pca = perform_pca(X, Y)\n",
    "\n",
    "# Perform GMM clustering\n",
    "gmm_labels, gmm_metrics = perform_gmm(X, X_pca, Y)\n",
    "\n",
    "# Perform K-modes clustering\n",
    "kmode_labels, kmode_metrics = perform_kmodes(X, X_pca, Y)\n"
   ]
  }
 ],
 "metadata": {
  "kernelspec": {
   "display_name": "ds",
   "language": "python",
   "name": "python3"
  },
  "language_info": {
   "codemirror_mode": {
    "name": "ipython",
    "version": 3
   },
   "file_extension": ".py",
   "mimetype": "text/x-python",
   "name": "python",
   "nbconvert_exporter": "python",
   "pygments_lexer": "ipython3",
   "version": "3.11.4"
  }
 },
 "nbformat": 4,
 "nbformat_minor": 2
}
